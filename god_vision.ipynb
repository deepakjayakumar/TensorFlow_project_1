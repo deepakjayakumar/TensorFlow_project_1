{
  "nbformat": 4,
  "nbformat_minor": 0,
  "metadata": {
    "colab": {
      "provenance": [],
      "name": "god-vision.ipynb",
      "mount_file_id": "https://github.com/deepakjayakumar/TensorFlow_project_1/blob/main/god_vision.ipynb",
      "authorship_tag": "ABX9TyNnAPnW0UgW0IAzfRMgeYpD",
      "include_colab_link": true
    },
    "kernelspec": {
      "name": "python3",
      "display_name": "Python 3"
    },
    "language_info": {
      "name": "python"
    }
  },
  "cells": [
    {
      "cell_type": "markdown",
      "metadata": {
        "id": "view-in-github",
        "colab_type": "text"
      },
      "source": [
        "<a href=\"https://colab.research.google.com/github/deepakjayakumar/TensorFlow_project_1/blob/main/god_vision.ipynb\" target=\"_parent\"><img src=\"https://colab.research.google.com/assets/colab-badge.svg\" alt=\"Open In Colab\"/></a>"
      ]
    },
    {
      "cell_type": "code",
      "source": [
        "#!unzip \"drive/MyDrive/Dog Vision/dog-breed-identification.zip\" -d \"drive/MyDrive/Dog Vision/\""
      ],
      "metadata": {
        "id": "mXpDyN7WiHXt"
      },
      "execution_count": 1,
      "outputs": []
    },
    {
      "cell_type": "code",
      "source": [],
      "metadata": {
        "id": "_x5D50TniwDm"
      },
      "execution_count": null,
      "outputs": []
    },
    {
      "cell_type": "markdown",
      "source": [
        "## Problem\n",
        "\n",
        "Identifying the breed of the dog in the giiven photo\n",
        "\n",
        "## Data\n",
        "\n",
        "The data was taken from Kaggle dog breed database\n",
        "\n",
        "## Evaluation\n"
      ],
      "metadata": {
        "id": "y2moB_aaqCWf"
      }
    },
    {
      "cell_type": "code",
      "source": [],
      "metadata": {
        "id": "Egd1m10oiYL0"
      },
      "execution_count": null,
      "outputs": []
    }
  ]
}