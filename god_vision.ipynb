{
  "nbformat": 4,
  "nbformat_minor": 0,
  "metadata": {
    "colab": {
      "provenance": [],
      "name": "god-vision.ipynb",
      "mount_file_id": "https://github.com/deepakjayakumar/TensorFlow_project_1/blob/main/god_vision.ipynb",
      "authorship_tag": "ABX9TyPbS7ECVHA5nxvju1QS7cjx",
      "include_colab_link": true
    },
    "kernelspec": {
      "name": "python3",
      "display_name": "Python 3"
    },
    "language_info": {
      "name": "python"
    }
  },
  "cells": [
    {
      "cell_type": "markdown",
      "metadata": {
        "id": "view-in-github",
        "colab_type": "text"
      },
      "source": [
        "<a href=\"https://colab.research.google.com/github/deepakjayakumar/TensorFlow_project_1/blob/main/god_vision.ipynb\" target=\"_parent\"><img src=\"https://colab.research.google.com/assets/colab-badge.svg\" alt=\"Open In Colab\"/></a>"
      ]
    },
    {
      "cell_type": "code",
      "source": [
        "#!unzip \"drive/MyDrive/Dog Vision/dog-breed-identification.zip\" -d \"drive/MyDrive/Dog Vision/\""
      ],
      "metadata": {
        "id": "mXpDyN7WiHXt"
      },
      "execution_count": 1,
      "outputs": []
    },
    {
      "cell_type": "code",
      "source": [],
      "metadata": {
        "id": "_x5D50TniwDm"
      },
      "execution_count": null,
      "outputs": []
    },
    {
      "cell_type": "markdown",
      "source": [
        "## 1. Problem\n",
        "\n",
        "Identifying the breed of the dog in the giiven photo\n",
        "\n",
        "## 2. Data\n",
        "\n",
        "The data was taken from Kaggle dog breed database\n",
        "\n",
        "https://www.kaggle.com/c/dog-breed-identification/data\n",
        "\n",
        "## 3. Evaluation\n",
        "\n",
        "The evealuation is a file with prediction probabilities of each dog breed of each test image\n",
        "\n",
        "## 4. Features\n",
        "\n",
        "Some information about the data:\n",
        "* We are dealing with images (unstructured data) so its probabaly best we use deep learning"
      ],
      "metadata": {
        "id": "y2moB_aaqCWf"
      }
    },
    {
      "cell_type": "code",
      "source": [],
      "metadata": {
        "id": "Egd1m10oiYL0"
      },
      "execution_count": null,
      "outputs": []
    }
  ]
}