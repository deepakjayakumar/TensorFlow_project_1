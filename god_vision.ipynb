{
  "nbformat": 4,
  "nbformat_minor": 0,
  "metadata": {
    "colab": {
      "provenance": [],
      "name": "god-vision.ipynb",
      "gpuType": "T4",
      "include_colab_link": true
    },
    "kernelspec": {
      "name": "python3",
      "display_name": "Python 3"
    },
    "language_info": {
      "name": "python"
    },
    "accelerator": "GPU"
  },
  "cells": [
    {
      "cell_type": "markdown",
      "metadata": {
        "id": "view-in-github",
        "colab_type": "text"
      },
      "source": [
        "<a href=\"https://colab.research.google.com/github/deepakjayakumar/TensorFlow_project_1/blob/main/god_vision.ipynb\" target=\"_parent\"><img src=\"https://colab.research.google.com/assets/colab-badge.svg\" alt=\"Open In Colab\"/></a>"
      ]
    },
    {
      "cell_type": "code",
      "source": [
        "#!unzip \"drive/MyDrive/Dog Vision/dog-breed-identification.zip\" -d \"drive/MyDrive/Dog Vision/\""
      ],
      "metadata": {
        "id": "mXpDyN7WiHXt"
      },
      "execution_count": null,
      "outputs": []
    },
    {
      "cell_type": "code",
      "source": [
        "from google.colab import drive\n",
        "drive.mount('/content/drive')"
      ],
      "metadata": {
        "id": "8n1-Lq-d9c2S",
        "outputId": "62037111-23d2-4dbf-95df-7c588a6e2bb4",
        "colab": {
          "base_uri": "https://localhost:8080/"
        }
      },
      "execution_count": 1,
      "outputs": [
        {
          "output_type": "stream",
          "name": "stdout",
          "text": [
            "Mounted at /content/drive\n"
          ]
        }
      ]
    },
    {
      "cell_type": "code",
      "source": [],
      "metadata": {
        "id": "VeS3RKbz9hnF"
      },
      "execution_count": null,
      "outputs": []
    },
    {
      "cell_type": "markdown",
      "source": [
        "## 1. Problem\n",
        "\n",
        "Identifying the breed of the dog in the giiven photo\n",
        "\n",
        "## 2. Data\n",
        "\n",
        "The data was taken from Kaggle dog breed database\n",
        "\n",
        "https://www.kaggle.com/c/dog-breed-identification/data\n",
        "\n",
        "## 3. Evaluation\n",
        "\n",
        "The evealuation is a file with prediction probabilities of each dog breed of each test image\n",
        "\n",
        "## 4. Features\n",
        "\n",
        "Some information about the data:\n",
        "* We are dealing with images (unstructured data) so its probabaly best we use deep learning\n",
        "* There are 120 breeds of dog (Multi class classification)\n",
        "* There are 10,000+ images in train set (these images have labels)\n",
        "* There are 10,000+ images in the test set (these images dont have labels and we will want to predict it)"
      ],
      "metadata": {
        "id": "y2moB_aaqCWf"
      }
    },
    {
      "cell_type": "code",
      "source": [
        "# Unzip the uploaded data in Google cloud\n",
        "#!unzip \"drive/MyDrive/Dog Vision/dog-breed-identification.zip\" -d \"drive/MyDrive/Dog Vision/\""
      ],
      "metadata": {
        "id": "NxtiuQc2uI7n"
      },
      "execution_count": null,
      "outputs": []
    },
    {
      "cell_type": "markdown",
      "source": [
        "### Get your workspace ready"
      ],
      "metadata": {
        "id": "QKm7WPAMumr3"
      }
    },
    {
      "cell_type": "code",
      "source": [
        "# Import tensorflow in colab\n",
        "import tensorflow as tf\n",
        "print('Tensor version: ',tf.__version__)"
      ],
      "metadata": {
        "id": "UxHCoDeouv7G",
        "outputId": "057557e1-2a1e-4bc1-df55-ebee15f9c6ad",
        "colab": {
          "base_uri": "https://localhost:8080/"
        }
      },
      "execution_count": 2,
      "outputs": [
        {
          "output_type": "stream",
          "name": "stdout",
          "text": [
            "Tensor version:  2.17.0\n"
          ]
        }
      ]
    },
    {
      "cell_type": "code",
      "source": [
        "import tensorflow_hub as hub\n",
        "print(\"TF hub version : \", hub.__version__)\n",
        "\n",
        "# Check for GPU availability\n",
        "print(\"GPU\",\" availabile\" if tf.config.list_physical_devices(\"GPU\") else \"not available\")"
      ],
      "metadata": {
        "id": "et0yyDLhvUtT",
        "colab": {
          "base_uri": "https://localhost:8080/"
        },
        "outputId": "105cc65b-4d6d-4a6a-bef8-dc0e552fb59c"
      },
      "execution_count": 3,
      "outputs": [
        {
          "output_type": "stream",
          "name": "stdout",
          "text": [
            "TF hub version :  0.16.1\n",
            "GPU  availabile\n"
          ]
        }
      ]
    },
    {
      "cell_type": "code",
      "source": [],
      "metadata": {
        "id": "sr45ogsVzH_S"
      },
      "execution_count": null,
      "outputs": []
    }
  ]
}