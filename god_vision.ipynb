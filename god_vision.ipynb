{
  "nbformat": 4,
  "nbformat_minor": 0,
  "metadata": {
    "colab": {
      "provenance": [],
      "name": "god-vision.ipynb",
      "toc_visible": true,
      "mount_file_id": "https://github.com/deepakjayakumar/TensorFlow_project_1/blob/main/god_vision.ipynb",
      "authorship_tag": "ABX9TyPirv1xcT6/GlzHFLf6f/VQ",
      "include_colab_link": true
    },
    "kernelspec": {
      "name": "python3",
      "display_name": "Python 3"
    },
    "language_info": {
      "name": "python"
    }
  },
  "cells": [
    {
      "cell_type": "markdown",
      "metadata": {
        "id": "view-in-github",
        "colab_type": "text"
      },
      "source": [
        "<a href=\"https://colab.research.google.com/github/deepakjayakumar/TensorFlow_project_1/blob/main/god_vision.ipynb\" target=\"_parent\"><img src=\"https://colab.research.google.com/assets/colab-badge.svg\" alt=\"Open In Colab\"/></a>"
      ]
    },
    {
      "cell_type": "code",
      "source": [
        "#!unzip \"drive/MyDrive/Dog Vision/dog-breed-identification.zip\" -d \"drive/MyDrive/Dog Vision/\""
      ],
      "metadata": {
        "id": "mXpDyN7WiHXt"
      },
      "execution_count": 1,
      "outputs": []
    },
    {
      "cell_type": "code",
      "source": [],
      "metadata": {
        "id": "_x5D50TniwDm"
      },
      "execution_count": null,
      "outputs": []
    },
    {
      "cell_type": "markdown",
      "source": [
        "## 1. Problem\n",
        "\n",
        "Identifying the breed of the dog in the giiven photo\n",
        "\n",
        "## 2. Data\n",
        "\n",
        "The data was taken from Kaggle dog breed database\n",
        "\n",
        "https://www.kaggle.com/c/dog-breed-identification/data\n",
        "\n",
        "## 3. Evaluation\n",
        "\n",
        "The evealuation is a file with prediction probabilities of each dog breed of each test image\n",
        "\n",
        "## 4. Features\n",
        "\n",
        "Some information about the data:\n",
        "* We are dealing with images (unstructured data) so its probabaly best we use deep learning\n",
        "* There are 120 breeds of dog (Multi class classification)\n",
        "* There are 10,000+ images in train set (these images have labels)\n",
        "* There are 10,000+ images in the test set (these images dont have labels and we will want to predict it)"
      ],
      "metadata": {
        "id": "y2moB_aaqCWf"
      }
    },
    {
      "cell_type": "code",
      "source": [
        "# Unzip the uploaded data in Google cloud\n",
        "#!unzip \"drive/MyDrive/Dog Vision/dog-breed-identification.zip\" -d \"drive/MyDrive/Dog Vision/\""
      ],
      "metadata": {
        "id": "NxtiuQc2uI7n"
      },
      "execution_count": 2,
      "outputs": []
    },
    {
      "cell_type": "markdown",
      "source": [
        "### Get your workspace ready"
      ],
      "metadata": {
        "id": "QKm7WPAMumr3"
      }
    },
    {
      "cell_type": "code",
      "source": [
        "# Import tensorflow in colab\n",
        "import tensorflow as tf\n",
        "print('Tensor version: ',tf.__version__)"
      ],
      "metadata": {
        "id": "UxHCoDeouv7G",
        "outputId": "bd446afb-3030-4a17-d1cc-ee1f7caef5dd",
        "colab": {
          "base_uri": "https://localhost:8080/"
        }
      },
      "execution_count": 4,
      "outputs": [
        {
          "output_type": "stream",
          "name": "stdout",
          "text": [
            "Tensor version:  2.17.0\n"
          ]
        }
      ]
    },
    {
      "cell_type": "code",
      "source": [],
      "metadata": {
        "id": "et0yyDLhvUtT"
      },
      "execution_count": null,
      "outputs": []
    }
  ]
}